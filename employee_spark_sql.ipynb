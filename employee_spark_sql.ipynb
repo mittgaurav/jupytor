{
 "cells": [
  {
   "cell_type": "code",
   "execution_count": 1,
   "metadata": {},
   "outputs": [],
   "source": [
    "from pyspark import SQLContext\n",
    "from pyspark import SparkContext\n",
    "\n",
    "sc = SparkContext.getOrCreate()\n",
    "sql = SQLContext.getOrCreate(sc)"
   ]
  },
  {
   "cell_type": "markdown",
   "metadata": {},
   "source": [
    "### Kafka to parquet"
   ]
  },
  {
   "cell_type": "code",
   "execution_count": 2,
   "metadata": {},
   "outputs": [
    {
     "name": "stdout",
     "output_type": "stream",
     "text": [
      "+---+-------+\n",
      "|age|   name|\n",
      "+---+-------+\n",
      "| 32|    Jon|\n",
      "| 25| Andrew|\n",
      "| 43| Nikita|\n",
      "| 23|   Ravi|\n",
      "| 65|  James|\n",
      "| 34|Kareena|\n",
      "+---+-------+\n",
      "\n"
     ]
    }
   ],
   "source": [
    "df = sql.read.json(\"data\\employee.json\")\n",
    "df.show()"
   ]
  },
  {
   "cell_type": "markdown",
   "metadata": {},
   "source": [
    "#### Try some queries on the dataframe"
   ]
  },
  {
   "cell_type": "code",
   "execution_count": 3,
   "metadata": {},
   "outputs": [
    {
     "name": "stdout",
     "output_type": "stream",
     "text": [
      "select name from table\n",
      "+-------+\n",
      "|   name|\n",
      "+-------+\n",
      "|    Jon|\n",
      "| Andrew|\n",
      "| Nikita|\n",
      "|   Ravi|\n",
      "|  James|\n",
      "|Kareena|\n",
      "+-------+\n",
      "\n",
      "select name, age from table where age > 30\n",
      "+-------+---+\n",
      "|   name|age|\n",
      "+-------+---+\n",
      "|    Jon| 32|\n",
      "| Nikita| 43|\n",
      "|  James| 65|\n",
      "|Kareena| 34|\n",
      "+-------+---+\n",
      "\n"
     ]
    }
   ],
   "source": [
    "print(\"select name from table\")\n",
    "df.select(\"name\").show()\n",
    "print(\"select name, age from table where age > 30\")\n",
    "df.select(['name', 'age']).where(\"age > 30\").show()"
   ]
  },
  {
   "cell_type": "markdown",
   "metadata": {},
   "source": [
    "#### Create parquet"
   ]
  },
  {
   "cell_type": "code",
   "execution_count": 4,
   "metadata": {},
   "outputs": [],
   "source": [
    "df.write.parquet(\"data\\employee.parquet\", mode='append')"
   ]
  },
  {
   "cell_type": "code",
   "execution_count": 5,
   "metadata": {},
   "outputs": [],
   "source": [
    "# spark not compiled with java 11\n",
    "# parquet_df = sql.read.parquet(\"data\\employee.parquet\")"
   ]
  }
 ],
 "metadata": {
  "kernelspec": {
   "display_name": "Python 3",
   "language": "python",
   "name": "python3"
  },
  "language_info": {
   "codemirror_mode": {
    "name": "ipython",
    "version": 3
   },
   "file_extension": ".py",
   "mimetype": "text/x-python",
   "name": "python",
   "nbconvert_exporter": "python",
   "pygments_lexer": "ipython3",
   "version": "3.6.8"
  }
 },
 "nbformat": 4,
 "nbformat_minor": 2
}
