{
 "cells": [
  {
   "cell_type": "code",
   "execution_count": 6,
   "metadata": {},
   "outputs": [],
   "source": [
    "from pyspark import SQLContext\n",
    "from pyspark import SparkContext\n",
    "\n",
    "sc = SparkContext.getOrCreate()\n",
    "spark = SQLContext.getOrCreate(sc)"
   ]
  },
  {
   "cell_type": "code",
   "execution_count": 12,
   "metadata": {},
   "outputs": [
    {
     "name": "stdout",
     "output_type": "stream",
     "text": [
      "+---+-------+\n",
      "|age|   name|\n",
      "+---+-------+\n",
      "| 32|    Jon|\n",
      "| 25| Andrew|\n",
      "| 43| Nikita|\n",
      "| 23|   Ravi|\n",
      "| 65|  James|\n",
      "| 34|Kareena|\n",
      "+---+-------+\n",
      "\n"
     ]
    }
   ],
   "source": [
    "df = spark.read.json(\"data\\employee.json\")\n",
    "df.show()"
   ]
  },
  {
   "cell_type": "code",
   "execution_count": 18,
   "metadata": {},
   "outputs": [
    {
     "name": "stdout",
     "output_type": "stream",
     "text": [
      "select * from table\n",
      "+---+-------+\n",
      "|age|   name|\n",
      "+---+-------+\n",
      "| 32|    Jon|\n",
      "| 25| Andrew|\n",
      "| 43| Nikita|\n",
      "| 23|   Ravi|\n",
      "| 65|  James|\n",
      "| 34|Kareena|\n",
      "+---+-------+\n",
      "\n",
      "select name from table\n",
      "+-------+\n",
      "|   name|\n",
      "+-------+\n",
      "|    Jon|\n",
      "| Andrew|\n",
      "| Nikita|\n",
      "|   Ravi|\n",
      "|  James|\n",
      "|Kareena|\n",
      "+-------+\n",
      "\n",
      "select name, age from table where age > 30\n",
      "+-------+---+\n",
      "|   name|age|\n",
      "+-------+---+\n",
      "|    Jon| 32|\n",
      "| Nikita| 43|\n",
      "|  James| 65|\n",
      "|Kareena| 34|\n",
      "+-------+---+\n",
      "\n"
     ]
    }
   ],
   "source": [
    "print(\"select * from table\")\n",
    "df.select(\"*\").show()\n",
    "print(\"select name from table\")\n",
    "df.select(\"name\").show()\n",
    "print(\"select name, age from table where age > 30\")\n",
    "df.select(['name', 'age']).where(\"age > 30\").show()"
   ]
  }
 ],
 "metadata": {
  "kernelspec": {
   "display_name": "Python 3",
   "language": "python",
   "name": "python3"
  },
  "language_info": {
   "codemirror_mode": {
    "name": "ipython",
    "version": 3
   },
   "file_extension": ".py",
   "mimetype": "text/x-python",
   "name": "python",
   "nbconvert_exporter": "python",
   "pygments_lexer": "ipython3",
   "version": "3.6.8"
  }
 },
 "nbformat": 4,
 "nbformat_minor": 2
}
