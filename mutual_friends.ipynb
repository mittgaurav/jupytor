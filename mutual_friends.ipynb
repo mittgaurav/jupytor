{
 "cells": [
  {
   "cell_type": "markdown",
   "metadata": {},
   "source": [
    "# Finding mutual friends using spark"
   ]
  },
  {
   "cell_type": "code",
   "execution_count": 1,
   "metadata": {},
   "outputs": [],
   "source": [
    "from pyspark import SparkContext\n",
    "\n",
    "sc = SparkContext.getOrCreate()"
   ]
  },
  {
   "cell_type": "markdown",
   "metadata": {},
   "source": [
    "### get rdd of friend list lines"
   ]
  },
  {
   "cell_type": "code",
   "execution_count": 2,
   "metadata": {},
   "outputs": [
    {
     "data": {
      "text/plain": [
       "['0 1,2,3',\n",
       " '1 0,2,4,5,6',\n",
       " '2 0,1,4,6,7,8',\n",
       " '3 0,4,7',\n",
       " '4 1,2,3,5,8',\n",
       " '5 1,4',\n",
       " '6 1,2',\n",
       " '7 2,3',\n",
       " '8 2,4']"
      ]
     },
     "execution_count": 2,
     "metadata": {},
     "output_type": "execute_result"
    }
   ],
   "source": [
    "lines = sc.textFile(\"data/friend_list\")\n",
    "lines.take(10)"
   ]
  },
  {
   "cell_type": "markdown",
   "metadata": {},
   "source": [
    "### map on each line"
   ]
  },
  {
   "cell_type": "code",
   "execution_count": 3,
   "metadata": {},
   "outputs": [],
   "source": [
    "def gen_pair_of_friends(row):\n",
    "    \"\"\"\n",
    "    for each friend pair, get\n",
    "    every possible mutual guy.\n",
    "    E.g. given 1 2,3,4 return\n",
    "    12:3,4\n",
    "    13:2,4\n",
    "    14:2,3\n",
    "    similarly for 2 1,3\n",
    "    12:3\n",
    "    23:1\n",
    "    \"\"\"\n",
    "    result = []\n",
    "    first, seconds = row.split(\" \")\n",
    "    seconds = set(seconds.split(\",\"))\n",
    "    for sec in seconds:\n",
    "        # remove itself from possible mutual friends\n",
    "        result.append((''.join(sorted([first, sec])), seconds - set([sec])))\n",
    "    return result"
   ]
  },
  {
   "cell_type": "code",
   "execution_count": 4,
   "metadata": {},
   "outputs": [
    {
     "data": {
      "text/plain": [
       "[('01', {'2', '3'}),\n",
       " ('03', {'1', '2'}),\n",
       " ('02', {'1', '3'}),\n",
       " ('15', {'0', '2', '4', '6'}),\n",
       " ('12', {'0', '4', '5', '6'}),\n",
       " ('01', {'2', '4', '5', '6'}),\n",
       " ('14', {'0', '2', '5', '6'}),\n",
       " ('16', {'0', '2', '4', '5'}),\n",
       " ('27', {'0', '1', '4', '6', '8'}),\n",
       " ('02', {'1', '4', '6', '7', '8'})]"
      ]
     },
     "execution_count": 4,
     "metadata": {},
     "output_type": "execute_result"
    }
   ],
   "source": [
    "pairs_of_friends = lines.flatMap(gen_pair_of_friends)\n",
    "pairs_of_friends.take(10)"
   ]
  },
  {
   "cell_type": "markdown",
   "metadata": {},
   "source": [
    "### shuffle same keys together"
   ]
  },
  {
   "cell_type": "code",
   "execution_count": 5,
   "metadata": {},
   "outputs": [
    {
     "data": {
      "text/plain": [
       "[('03', [{'1', '2'}, {'4', '7'}]),\n",
       " ('12', [{'0', '4', '5', '6'}, {'0', '4', '6', '7', '8'}]),\n",
       " ('14', [{'0', '2', '5', '6'}, {'2', '3', '5', '8'}]),\n",
       " ('16', [{'0', '2', '4', '5'}, {'2'}]),\n",
       " ('24', [{'0', '1', '6', '7', '8'}, {'1', '3', '5', '8'}]),\n",
       " ('26', [{'0', '1', '4', '7', '8'}, {'1'}]),\n",
       " ('34', [{'0', '7'}, {'1', '2', '5', '8'}]),\n",
       " ('45', [{'1', '2', '3', '8'}, {'1'}]),\n",
       " ('48', [{'1', '2', '3', '5'}, {'2'}]),\n",
       " ('01', [{'2', '3'}, {'2', '4', '5', '6'}])]"
      ]
     },
     "execution_count": 5,
     "metadata": {},
     "output_type": "execute_result"
    }
   ],
   "source": [
    "mutual_friend = pairs_of_friends.groupByKey()\n",
    "\n",
    "# groupByKey() returns iterator on values\n",
    "mutual_friend.map(lambda x: (x[0], list(x[1]))).take(10)"
   ]
  },
  {
   "cell_type": "markdown",
   "metadata": {},
   "source": [
    "### reduce each result of mapper"
   ]
  },
  {
   "cell_type": "code",
   "execution_count": 6,
   "metadata": {},
   "outputs": [],
   "source": [
    "def reducer(result):\n",
    "    \"\"\"\n",
    "    we have received at max two possible\n",
    "    sets of mutual friends for a pair. Now,\n",
    "    intersection of the two values to see \n",
    "    the actual mutual friends. E.g.\n",
    "    \"\"\"\n",
    "    return (result[0], set.intersection(*list(result[1])))"
   ]
  },
  {
   "cell_type": "code",
   "execution_count": 7,
   "metadata": {},
   "outputs": [
    {
     "data": {
      "text/plain": [
       "[('03', set()),\n",
       " ('12', {'0', '4', '6'}),\n",
       " ('14', {'2', '5'}),\n",
       " ('16', {'2'}),\n",
       " ('24', {'1', '8'}),\n",
       " ('26', {'1'}),\n",
       " ('34', set()),\n",
       " ('45', {'1'}),\n",
       " ('48', {'2'}),\n",
       " ('01', {'2'})]"
      ]
     },
     "execution_count": 7,
     "metadata": {},
     "output_type": "execute_result"
    }
   ],
   "source": [
    "mutual_friend.map(reducer).take(10)"
   ]
  }
 ],
 "metadata": {
  "kernelspec": {
   "display_name": "Python 3",
   "language": "python",
   "name": "python3"
  },
  "language_info": {
   "codemirror_mode": {
    "name": "ipython",
    "version": 3
   },
   "file_extension": ".py",
   "mimetype": "text/x-python",
   "name": "python",
   "nbconvert_exporter": "python",
   "pygments_lexer": "ipython3",
   "version": "3.6.8"
  }
 },
 "nbformat": 4,
 "nbformat_minor": 2
}
