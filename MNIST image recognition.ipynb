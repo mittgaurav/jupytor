{
 "cells": [
  {
   "cell_type": "code",
   "execution_count": 1,
   "id": "e49efa6b-800c-4235-859d-6871b23250fc",
   "metadata": {},
   "outputs": [],
   "source": [
    "import pandas as pd\n",
    "import numpy as np\n",
    "from sklearn.preprocessing import OneHotEncoder\n",
    "from matplotlib import pyplot as plt"
   ]
  },
  {
   "cell_type": "code",
   "execution_count": 2,
   "id": "003d091a-ae9e-4ee0-8204-60592cad4a7e",
   "metadata": {},
   "outputs": [],
   "source": [
    "import sys\n",
    "sys.path.append(\"../Pietone\")\n",
    "from neural_network import CustomLayerNN"
   ]
  },
  {
   "cell_type": "markdown",
   "id": "703c46dc-a58d-460e-904a-d989948f1aae",
   "metadata": {
    "editable": true,
    "slideshow": {
     "slide_type": ""
    },
    "tags": []
   },
   "source": [
    "### Load mnist image data\n",
    "28 * 28 pixels for each image. Training and testing data contains 60k and 70k images respectively. "
   ]
  },
  {
   "cell_type": "code",
   "execution_count": 3,
   "id": "a8b85b23-57b2-405b-9174-7f934e6700a9",
   "metadata": {},
   "outputs": [
    {
     "data": {
      "text/html": [
       "<div>\n",
       "<style scoped>\n",
       "    .dataframe tbody tr th:only-of-type {\n",
       "        vertical-align: middle;\n",
       "    }\n",
       "\n",
       "    .dataframe tbody tr th {\n",
       "        vertical-align: top;\n",
       "    }\n",
       "\n",
       "    .dataframe thead th {\n",
       "        text-align: right;\n",
       "    }\n",
       "</style>\n",
       "<table border=\"1\" class=\"dataframe\">\n",
       "  <thead>\n",
       "    <tr style=\"text-align: right;\">\n",
       "      <th></th>\n",
       "      <th>label</th>\n",
       "      <th>0</th>\n",
       "      <th>1</th>\n",
       "      <th>2</th>\n",
       "      <th>3</th>\n",
       "      <th>4</th>\n",
       "      <th>5</th>\n",
       "      <th>6</th>\n",
       "      <th>7</th>\n",
       "      <th>8</th>\n",
       "      <th>...</th>\n",
       "      <th>774</th>\n",
       "      <th>775</th>\n",
       "      <th>776</th>\n",
       "      <th>777</th>\n",
       "      <th>778</th>\n",
       "      <th>779</th>\n",
       "      <th>780</th>\n",
       "      <th>781</th>\n",
       "      <th>782</th>\n",
       "      <th>783</th>\n",
       "    </tr>\n",
       "  </thead>\n",
       "  <tbody>\n",
       "    <tr>\n",
       "      <th>0</th>\n",
       "      <td>5</td>\n",
       "      <td>0</td>\n",
       "      <td>0</td>\n",
       "      <td>0</td>\n",
       "      <td>0</td>\n",
       "      <td>0</td>\n",
       "      <td>0</td>\n",
       "      <td>0</td>\n",
       "      <td>0</td>\n",
       "      <td>0</td>\n",
       "      <td>...</td>\n",
       "      <td>0</td>\n",
       "      <td>0</td>\n",
       "      <td>0</td>\n",
       "      <td>0</td>\n",
       "      <td>0</td>\n",
       "      <td>0</td>\n",
       "      <td>0</td>\n",
       "      <td>0</td>\n",
       "      <td>0</td>\n",
       "      <td>0</td>\n",
       "    </tr>\n",
       "    <tr>\n",
       "      <th>1</th>\n",
       "      <td>0</td>\n",
       "      <td>0</td>\n",
       "      <td>0</td>\n",
       "      <td>0</td>\n",
       "      <td>0</td>\n",
       "      <td>0</td>\n",
       "      <td>0</td>\n",
       "      <td>0</td>\n",
       "      <td>0</td>\n",
       "      <td>0</td>\n",
       "      <td>...</td>\n",
       "      <td>0</td>\n",
       "      <td>0</td>\n",
       "      <td>0</td>\n",
       "      <td>0</td>\n",
       "      <td>0</td>\n",
       "      <td>0</td>\n",
       "      <td>0</td>\n",
       "      <td>0</td>\n",
       "      <td>0</td>\n",
       "      <td>0</td>\n",
       "    </tr>\n",
       "    <tr>\n",
       "      <th>2</th>\n",
       "      <td>4</td>\n",
       "      <td>0</td>\n",
       "      <td>0</td>\n",
       "      <td>0</td>\n",
       "      <td>0</td>\n",
       "      <td>0</td>\n",
       "      <td>0</td>\n",
       "      <td>0</td>\n",
       "      <td>0</td>\n",
       "      <td>0</td>\n",
       "      <td>...</td>\n",
       "      <td>0</td>\n",
       "      <td>0</td>\n",
       "      <td>0</td>\n",
       "      <td>0</td>\n",
       "      <td>0</td>\n",
       "      <td>0</td>\n",
       "      <td>0</td>\n",
       "      <td>0</td>\n",
       "      <td>0</td>\n",
       "      <td>0</td>\n",
       "    </tr>\n",
       "    <tr>\n",
       "      <th>3</th>\n",
       "      <td>1</td>\n",
       "      <td>0</td>\n",
       "      <td>0</td>\n",
       "      <td>0</td>\n",
       "      <td>0</td>\n",
       "      <td>0</td>\n",
       "      <td>0</td>\n",
       "      <td>0</td>\n",
       "      <td>0</td>\n",
       "      <td>0</td>\n",
       "      <td>...</td>\n",
       "      <td>0</td>\n",
       "      <td>0</td>\n",
       "      <td>0</td>\n",
       "      <td>0</td>\n",
       "      <td>0</td>\n",
       "      <td>0</td>\n",
       "      <td>0</td>\n",
       "      <td>0</td>\n",
       "      <td>0</td>\n",
       "      <td>0</td>\n",
       "    </tr>\n",
       "    <tr>\n",
       "      <th>4</th>\n",
       "      <td>9</td>\n",
       "      <td>0</td>\n",
       "      <td>0</td>\n",
       "      <td>0</td>\n",
       "      <td>0</td>\n",
       "      <td>0</td>\n",
       "      <td>0</td>\n",
       "      <td>0</td>\n",
       "      <td>0</td>\n",
       "      <td>0</td>\n",
       "      <td>...</td>\n",
       "      <td>0</td>\n",
       "      <td>0</td>\n",
       "      <td>0</td>\n",
       "      <td>0</td>\n",
       "      <td>0</td>\n",
       "      <td>0</td>\n",
       "      <td>0</td>\n",
       "      <td>0</td>\n",
       "      <td>0</td>\n",
       "      <td>0</td>\n",
       "    </tr>\n",
       "  </tbody>\n",
       "</table>\n",
       "<p>5 rows × 785 columns</p>\n",
       "</div>"
      ],
      "text/plain": [
       "   label  0  1  2  3  4  5  6  7  8  ...  774  775  776  777  778  779  780  \\\n",
       "0      5  0  0  0  0  0  0  0  0  0  ...    0    0    0    0    0    0    0   \n",
       "1      0  0  0  0  0  0  0  0  0  0  ...    0    0    0    0    0    0    0   \n",
       "2      4  0  0  0  0  0  0  0  0  0  ...    0    0    0    0    0    0    0   \n",
       "3      1  0  0  0  0  0  0  0  0  0  ...    0    0    0    0    0    0    0   \n",
       "4      9  0  0  0  0  0  0  0  0  0  ...    0    0    0    0    0    0    0   \n",
       "\n",
       "   781  782  783  \n",
       "0    0    0    0  \n",
       "1    0    0    0  \n",
       "2    0    0    0  \n",
       "3    0    0    0  \n",
       "4    0    0    0  \n",
       "\n",
       "[5 rows x 785 columns]"
      ]
     },
     "execution_count": 3,
     "metadata": {},
     "output_type": "execute_result"
    }
   ],
   "source": [
    "cols = [str(i) for i in range(28*28)]\n",
    "all_cols = [\"label\"] + cols\n",
    "\n",
    "train = pd.read_csv(\"data\\\\mnist_train.csv.zip\", names=all_cols)\n",
    "test = pd.read_csv(\"data\\\\mnist_test.csv.zip\", names=all_cols)\n",
    "train.head()"
   ]
  },
  {
   "cell_type": "markdown",
   "id": "f543542f-f375-41b9-a2b6-b752ee15c34b",
   "metadata": {},
   "source": [
    "#### Normalize"
   ]
  },
  {
   "cell_type": "code",
   "execution_count": 4,
   "id": "7da16866-c582-47d8-9027-9a6920aa2960",
   "metadata": {},
   "outputs": [],
   "source": [
    "def one_hot_encode(labels):\n",
    "    encoder = OneHotEncoder(sparse_output=False)\n",
    "    return encoder.fit_transform(labels)\n",
    "    \n",
    "def show_image(X, y, loc, result=None):\n",
    "    image = X[loc]\n",
    "    pixels = image.reshape((28, 28))\n",
    "    print(\"Label:\", np.argmax(y[loc]), f\"Result: {result}\" if result is not None else \"\")\n",
    "    plt.imshow(pixels, cmap='gray')\n",
    "    plt.show()"
   ]
  },
  {
   "cell_type": "markdown",
   "id": "a3b4467f-19df-4f80-be35-b024cfe97b09",
   "metadata": {},
   "source": [
    "#### Convert the label to a categorical [0, 0, 0, 0, 0, 0, 1, 0, 0, 0]\n",
    "In addition, scale the bits"
   ]
  },
  {
   "cell_type": "code",
   "execution_count": 5,
   "id": "5b4e4860-2eca-4476-a465-3b26a1b22984",
   "metadata": {},
   "outputs": [
    {
     "name": "stdout",
     "output_type": "stream",
     "text": [
      "Label: 0 \n"
     ]
    },
    {
     "data": {
      "image/png": "[encoded data removed]",
      "text/plain": [
       "<Figure size 640x480 with 1 Axes>"
      ]
     },
     "metadata": {},
     "output_type": "display_data"
    }
   ],
   "source": [
    "X_train = train.iloc[:, 1:].values / 255.0\n",
    "y_train = train.iloc[:, 0].values.reshape(-1, 1)\n",
    "y_train = one_hot_encode(y_train)\n",
    "\n",
    "X_test = test.iloc[:, 1:].values / 255.0\n",
    "y_test = test.iloc[:, 0].values.reshape(-1, 1)\n",
    "y_test = one_hot_encode(y_test)\n",
    "\n",
    "show_image(X_test, y_test, 10)"
   ]
  },
  {
   "cell_type": "markdown",
   "id": "debd2b68-7e07-412e-bb69-07760dad0bb2",
   "metadata": {},
   "source": [
    "### Train model"
   ]
  },
  {
   "cell_type": "code",
   "execution_count": 6,
   "id": "5e1b088c-051c-4fe0-bf10-bcc7dff8a2d1",
   "metadata": {},
   "outputs": [
    {
     "name": "stdout",
     "output_type": "stream",
     "text": [
      "Epoch 0, Loss: 0.2591\n",
      "Epoch 100, Loss: 0.0644\n",
      "Epoch 200, Loss: 0.0536\n",
      "Epoch 300, Loss: 0.0468\n",
      "Epoch 400, Loss: 0.0419\n",
      "Epoch 500, Loss: 0.0380\n",
      "Epoch 600, Loss: 0.0348\n",
      "Epoch 700, Loss: 0.0322\n",
      "Epoch 800, Loss: 0.0301\n",
      "Epoch 900, Loss: 0.0283\n",
      "Epoch 999, Loss: 0.0269\n"
     ]
    }
   ],
   "source": [
    "nn = CustomLayerNN(input_size=28*28, layer_sizes=[512, 256, 128, 32], output_size=10, learning_rate=.01)\n",
    "\n",
    "nn.train(X_train, y_train, epochs=1000)"
   ]
  },
  {
   "cell_type": "markdown",
   "id": "b07b4873-c3c1-4637-a68f-001e83f67503",
   "metadata": {},
   "source": [
    "### Measure accuracy"
   ]
  },
  {
   "cell_type": "code",
   "execution_count": 7,
   "id": "11b5107c-5d8f-4266-bdf4-b68e2ad28f25",
   "metadata": {},
   "outputs": [
    {
     "data": {
      "text/plain": [
       "(0.9050166666666667, 0.9078)"
      ]
     },
     "execution_count": 7,
     "metadata": {},
     "output_type": "execute_result"
    }
   ],
   "source": [
    "y_pred_train = nn.predict(X_train)\n",
    "y_pred_test = nn.predict(X_test)\n",
    "\n",
    "train_accuracy = np.mean(np.argmax(y_pred_train, axis=1) == np.argmax(y_train, axis=1))\n",
    "test_accuracy = np.mean(np.argmax(y_pred_test, axis=1) == np.argmax(y_test, axis=1))\n",
    "train_accuracy, test_accuracy"
   ]
  },
  {
   "cell_type": "markdown",
   "id": "f368b9e6-161c-4b0f-a000-476887a6eb90",
   "metadata": {},
   "source": [
    "#### Find some errors"
   ]
  },
  {
   "cell_type": "code",
   "execution_count": 8,
   "id": "fc8684d1-2cee-41a5-b6ed-3e44a879cfd5",
   "metadata": {},
   "outputs": [
    {
     "name": "stdout",
     "output_type": "stream",
     "text": [
      "Label: 5 Result: 4\n"
     ]
    },
    {
     "data": {
      "image/png": "[encoded data removed]",
      "text/plain": [
       "<Figure size 640x480 with 1 Axes>"
      ]
     },
     "metadata": {},
     "output_type": "display_data"
    },
    {
     "name": "stdout",
     "output_type": "stream",
     "text": [
      "0.2660936336121504 0.3117304188855278\n",
      "Label: 4 Result: 6\n"
     ]
    },
    {
     "data": {
      "image/png": "[encoded data removed]",
      "text/plain": [
       "<Figure size 640x480 with 1 Axes>"
      ]
     },
     "metadata": {},
     "output_type": "display_data"
    },
    {
     "name": "stdout",
     "output_type": "stream",
     "text": [
      "0.10226309720768077 0.5119427668068148\n",
      "Label: 9 Result: 4\n"
     ]
    },
    {
     "data": {
      "image/png": "[encoded data removed]",
      "text/plain": [
       "<Figure size 640x480 with 1 Axes>"
      ]
     },
     "metadata": {},
     "output_type": "display_data"
    },
    {
     "name": "stdout",
     "output_type": "stream",
     "text": [
      "0.3270090143296637 0.39269526169863384\n",
      "Label: 6 Result: 7\n"
     ]
    },
    {
     "data": {
      "image/png": "[encoded data removed]",
      "text/plain": [
       "<Figure size 640x480 with 1 Axes>"
      ]
     },
     "metadata": {},
     "output_type": "display_data"
    },
    {
     "name": "stdout",
     "output_type": "stream",
     "text": [
      "0.17022752869425245 0.2301053258091735\n",
      "Label: 9 Result: 8\n"
     ]
    },
    {
     "data": {
      "image/png": "[encoded data removed]",
      "text/plain": [
       "<Figure size 640x480 with 1 Axes>"
      ]
     },
     "metadata": {},
     "output_type": "display_data"
    },
    {
     "name": "stdout",
     "output_type": "stream",
     "text": [
      "0.3612826620866756 0.4100768967685604\n",
      "Label: 2 Result: 7\n"
     ]
    },
    {
     "data": {
      "image/png": "[encoded data removed]",
      "text/plain": [
       "<Figure size 640x480 with 1 Axes>"
      ]
     },
     "metadata": {},
     "output_type": "display_data"
    },
    {
     "name": "stdout",
     "output_type": "stream",
     "text": [
      "0.1931813745317607 0.47854036077181683\n",
      "Label: 7 Result: 9\n"
     ]
    },
    {
     "data": {
      "image/png": "[encoded data removed]",
      "text/plain": [
       "<Figure size 640x480 with 1 Axes>"
      ]
     },
     "metadata": {},
     "output_type": "display_data"
    },
    {
     "name": "stdout",
     "output_type": "stream",
     "text": [
      "0.46587470431476335 0.5628675385871995\n",
      "Label: 9 Result: 4\n"
     ]
    },
    {
     "data": {
      "image/png": "[encoded data removed]",
      "text/plain": [
       "<Figure size 640x480 with 1 Axes>"
      ]
     },
     "metadata": {},
     "output_type": "display_data"
    },
    {
     "name": "stdout",
     "output_type": "stream",
     "text": [
      "0.3209524680424392 0.4522566019848049\n"
     ]
    }
   ],
   "source": [
    "for i in range(100):\n",
    "    predicted = nn.predict(X_test[i])\n",
    "    if np.argmax(y_test[i]) != np.argmax(predicted):\n",
    "        show_image(X_test, y_test, i, result=np.argmax(predicted))\n",
    "        # print(predicted)\n",
    "        print(predicted[0][np.argmax(y_test[i])], predicted[0][np.argmax(predicted)])"
   ]
  }
 ],
 "metadata": {
  "kernelspec": {
   "display_name": "Python 3 (ipykernel)",
   "language": "python",
   "name": "python3"
  },
  "language_info": {
   "codemirror_mode": {
    "name": "ipython",
    "version": 3
   },
   "file_extension": ".py",
   "mimetype": "text/x-python",
   "name": "python",
   "nbconvert_exporter": "python",
   "pygments_lexer": "ipython3",
   "version": "3.11.7"
  }
 },
 "nbformat": 4,
 "nbformat_minor": 5
}
