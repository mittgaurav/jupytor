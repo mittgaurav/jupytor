{
 "cells": [
  {
   "cell_type": "markdown",
   "metadata": {},
   "source": [
    "# Recommend friends using pyspark"
   ]
  },
  {
   "cell_type": "code",
   "execution_count": 1,
   "metadata": {},
   "outputs": [],
   "source": [
    "from pyspark import SparkContext\n",
    "\n",
    "sc = SparkContext.getOrCreate()"
   ]
  },
  {
   "cell_type": "markdown",
   "metadata": {},
   "source": [
    "### get rdd of friend list lines"
   ]
  },
  {
   "cell_type": "code",
   "execution_count": 2,
   "metadata": {},
   "outputs": [
    {
     "data": {
      "text/plain": [
       "['0 1,2,3',\n",
       " '1 0,2,4,5,6',\n",
       " '2 0,1,4,6,7,8',\n",
       " '3 0,4,7',\n",
       " '4 1,2,3,5,8',\n",
       " '5 1,4',\n",
       " '6 1,2',\n",
       " '7 2,3',\n",
       " '8 2,4']"
      ]
     },
     "execution_count": 2,
     "metadata": {},
     "output_type": "execute_result"
    }
   ],
   "source": [
    "lines = sc.textFile(\"data/friend_list\")\n",
    "lines.take(10)"
   ]
  },
  {
   "cell_type": "markdown",
   "metadata": {},
   "source": [
    "### map: generate pairs that are connected by one"
   ]
  },
  {
   "cell_type": "code",
   "execution_count": 3,
   "metadata": {},
   "outputs": [],
   "source": [
    "def generate_pairs(row):\n",
    "    \"\"\"\n",
    "    each of pair of my friends are connected via\n",
    "    me.\n",
    "    for given line, set all friend pairs to zero\n",
    "    to ignore them.\n",
    "    \"\"\"\n",
    "    result = []\n",
    "    first, seconds = row.split(\" \")\n",
    "    seconds = seconds.split(\",\")\n",
    "    \n",
    "    for sec in seconds:  # mark all friends as zero\n",
    "        # so that it's easy to ignore them later on\n",
    "        result.append((''.join(sorted([first, sec])), 0))\n",
    "    \n",
    "    for sec1 in seconds:\n",
    "        for sec2 in seconds:\n",
    "            if sec1 != sec2:  # first and second have first\n",
    "                # as a mutual friend (at least). They might\n",
    "                # as well be friends, but we'll ignore them\n",
    "                result.append((''.join(sorted([sec1, sec2])), 1))\n",
    "    \n",
    "    return result"
   ]
  },
  {
   "cell_type": "code",
   "execution_count": 4,
   "metadata": {},
   "outputs": [
    {
     "data": {
      "text/plain": [
       "[('01', 0),\n",
       " ('02', 0),\n",
       " ('03', 0),\n",
       " ('12', 1),\n",
       " ('13', 1),\n",
       " ('12', 1),\n",
       " ('23', 1),\n",
       " ('13', 1),\n",
       " ('23', 1),\n",
       " ('01', 0)]"
      ]
     },
     "execution_count": 4,
     "metadata": {},
     "output_type": "execute_result"
    }
   ],
   "source": [
    "mutual_pairs = lines.flatMap(generate_pairs)\n",
    "mutual_pairs.take(10)"
   ]
  },
  {
   "cell_type": "markdown",
   "metadata": {},
   "source": [
    "### shuffle"
   ]
  },
  {
   "cell_type": "code",
   "execution_count": 5,
   "metadata": {},
   "outputs": [
    {
     "data": {
      "text/plain": [
       "[('03', <pyspark.resultiterable.ResultIterable at 0x28c02457630>),\n",
       " ('12', <pyspark.resultiterable.ResultIterable at 0x28c02457fd0>),\n",
       " ('14', <pyspark.resultiterable.ResultIterable at 0x28c03b7d4e0>),\n",
       " ('16', <pyspark.resultiterable.ResultIterable at 0x28c03ba4a20>),\n",
       " ('05', <pyspark.resultiterable.ResultIterable at 0x28c03b7da58>),\n",
       " ('06', <pyspark.resultiterable.ResultIterable at 0x28c03b7d2e8>),\n",
       " ('24', <pyspark.resultiterable.ResultIterable at 0x28c03b7d438>),\n",
       " ('26', <pyspark.resultiterable.ResultIterable at 0x28c03b7d860>),\n",
       " ('45', <pyspark.resultiterable.ResultIterable at 0x28c03b7d390>),\n",
       " ('56', <pyspark.resultiterable.ResultIterable at 0x28c03b7d3c8>)]"
      ]
     },
     "execution_count": 5,
     "metadata": {},
     "output_type": "execute_result"
    }
   ],
   "source": [
    "mutual_pairs = mutual_pairs.groupByKey()\n",
    "mutual_pairs.take(10)"
   ]
  },
  {
   "cell_type": "markdown",
   "metadata": {},
   "source": [
    "### reducer: count num of mutual friends"
   ]
  },
  {
   "cell_type": "code",
   "execution_count": 6,
   "metadata": {},
   "outputs": [],
   "source": [
    "def sum_mutual_friends(values):\n",
    "    \"\"\"\n",
    "    count num of 1s. If there are\n",
    "    any 0s, ignore the candidates\n",
    "    \"\"\"\n",
    "    return 0 if 0 in values else sum(values) // 2"
   ]
  },
  {
   "cell_type": "code",
   "execution_count": 7,
   "metadata": {},
   "outputs": [
    {
     "data": {
      "text/plain": [
       "[('05', 1),\n",
       " ('06', 2),\n",
       " ('56', 1),\n",
       " ('07', 2),\n",
       " ('17', 1),\n",
       " ('68', 1),\n",
       " ('13', 2),\n",
       " ('23', 3),\n",
       " ('04', 3),\n",
       " ('25', 2)]"
      ]
     },
     "execution_count": 7,
     "metadata": {},
     "output_type": "execute_result"
    }
   ],
   "source": [
    "# Try sortByKey(_[1], False) in spark below java 11\n",
    "mutual_pairs.mapValues(sum_mutual_friends).filter(lambda x: x[1] > 0).take(10)"
   ]
  }
 ],
 "metadata": {
  "kernelspec": {
   "display_name": "Python 3",
   "language": "python",
   "name": "python3"
  },
  "language_info": {
   "codemirror_mode": {
    "name": "ipython",
    "version": 3
   },
   "file_extension": ".py",
   "mimetype": "text/x-python",
   "name": "python",
   "nbconvert_exporter": "python",
   "pygments_lexer": "ipython3",
   "version": "3.6.8"
  }
 },
 "nbformat": 4,
 "nbformat_minor": 2
}
